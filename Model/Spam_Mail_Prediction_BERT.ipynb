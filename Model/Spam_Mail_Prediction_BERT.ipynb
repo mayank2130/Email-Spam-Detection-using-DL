import numpy as np
import pandas as pd
import tensorflow as tf
from sklearn.model_selection import train_test_split
from transformers import BertTokenizer, TFBertForSequenceClassification
import matplotlib.pyplot as plt
from sklearn.metrics import confusion_matrix
import seaborn as sns

# Load your dataset
df = pd.read_csv("/kaggle/input/mail-dataset/mail_data.csv")
df


# Preprocess the data
df['Category'] = df['Category'].map({'spam': 1, 'ham': 0})

train_data, test_data = train_test_split(df, test_size=0.2, random_state=42)

tokenizer = BertTokenizer.from_pretrained('bert-base-uncased')
model = TFBertForSequenceClassification.from_pretrained('bert-base-uncased', num_labels=2)

train_encodings = tokenizer(list(train_data['Message']), truncation=True, padding=True)
test_encodings = tokenizer(list(test_data['Message']), truncation=True, padding=True)
train_dataset = tf.data.Dataset.from_tensor_slices((
    dict(train_encodings),
    train_data['Category']
)).shuffle(100).batch(64)

test_dataset = tf.data.Dataset.from_tensor_slices((
    dict(test_encodings),
    test_data['Category']
)).batch(32)

loss_fn = tf.keras.losses.SparseCategoricalCrossentropy(from_logits=True)
metrics = [tf.keras.metrics.SparseCategoricalAccuracy('accuracy')]
model.compile(optimizer='adam', loss=loss_fn, metrics=metrics)
history = model.fit(train_dataset, epochs=5, validation_data=test_dataset)
plt.figure(figsize=(12, 4))

plt.subplot(1, 2, 1)
plt.plot(history.history['loss'], label='Training Loss')
plt.plot(history.history['val_loss'], label='Validation Loss')
plt.xlabel('Epochs')
plt.ylabel('Loss')
plt.legend()

plt.subplot(1, 2, 2)
plt.plot(history.history['accuracy'], label='Training Accuracy')
plt.plot(history.history['val_accuracy'], label='Validation Accuracy')
plt.xlabel('Epochs')
plt.ylabel('Accuracy')
plt.legend()

plt.tight_layout()
plt.show()

test_predictions = model.predict(test_dataset)
test_predictions = np.argmax(test_predictions.logits, axis=-1)
test_labels = test_data['Category'].values

cm = confusion_matrix(test_labels, test_predictions)

class_labels = ['Ham', 'Spam']

plt.figure(figsize=(8, 6))
sns.heatmap(cm, annot=True, fmt='d', cmap='Blues', xticklabels=class_labels, yticklabels=class_labels)
plt.xlabel('Predicted')
plt.ylabel('Actual')
plt.title('Confusion Matrix')
plt.show()
